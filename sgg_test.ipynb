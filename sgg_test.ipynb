{
 "cells": [
  {
   "cell_type": "code",
   "execution_count": 13,
   "metadata": {},
   "outputs": [
    {
     "name": "stdout",
     "output_type": "stream",
     "text": [
      "Would you please grab me the fruit which is not red?\n",
      "I need the potted meat can in left.\n",
      "Please grab me the yellow sugar box which is ahead of the blue potted meat can.\n",
      "What's the blue stuff which is frontmost?\n",
      "I would like the bleach cleanser near the blue can that is in the front.\n"
     ]
    }
   ],
   "source": [
    "from scene_graph_generation import SceneGraph\n",
    "import numpy as np\n",
    "import os\n",
    "s = SceneGraph((4, 4))\n",
    "s.LoadModelsInfo(\"./models/models_info.xlsx\")\n",
    "for i in range(1):\n",
    "    \n",
    "    while True:\n",
    "        if s.CreateScene(6) is True:\n",
    "            break\n",
    "    str=s.GetComplexReferringExpressions()\n",
    "    for line in str:\n",
    "        print(line)\n",
    "\n",
    "    # for line in s.GetSimpleReferringExpressions():\n",
    "    #     print(line)\n",
    "\n",
    "    # print(s)\n",
    "\n",
    "    # # print object nodes tree\n",
    "    # for node in s.objectNodes:\n",
    "    #     if node.parent is None:\n",
    "    #         print(f\"{node.name} at {node.coordinate}\")\n",
    "    #         for childNode in node.children:\n",
    "    #             print(f\" └---{childNode.name} at {childNode.coordinate}\")\n",
    "\n",
    "    # print(s.forbiddenExpressionComponentsRegionMap)\n",
    "    # print(s.forbiddenExpressionComponentsGlobal)\n",
    "\n",
    "# s.SaveScene(\"test_scene_graph\")"
   ]
  },
  {
   "cell_type": "code",
   "execution_count": 1,
   "metadata": {},
   "outputs": [
    {
     "name": "stdout",
     "output_type": "stream",
     "text": [
      "the stuff that is the closest\n",
      "the red object in the middle of the cracker box and the banana\n",
      "the stuff which is behind and to the right of the red gelatin box\n",
      "the can in the middle of the red bowl and the blue tuna fish can\n",
      "Map:\n",
      "             bowl                    tomato soup can                tuna fish can                       .               \n",
      "              .                             .                           orange                          .               \n",
      "         cracker box                   gelatin box                      banana                          .               \n",
      "              .                           lemon                           .                             .               \n",
      "\n",
      "ObjectNodes:\n",
      "ObjectNode:lemon(scene_id=0, obj_id=obj_000012, coordinate=(3, 1), color=yellow, size=1,\n",
      "           parent=None,\n",
      "           children=[],\n",
      "           locationComponent=location.absoluteLocation.frontmost,\n",
      "           attributeComponent=attribute.randomAttribute,\n",
      "           objectReferComponent=objectRefer.ambiguous)\n",
      "\n",
      "ObjectNode:gelatin box(scene_id=1, obj_id=obj_000007, coordinate=(2, 1), color=red, size=1,\n",
      "           parent=None,\n",
      "           children=['cracker box at (2, 0)', 'banana at (2, 2)', 'orange at (1, 2)'],\n",
      "           locationComponent=location.relativeLocationToMultipleObjects.middle,\n",
      "           attributeComponent=attribute.directRefer.color,\n",
      "           objectReferComponent=objectRefer.ambiguous)\n",
      "\n",
      "ObjectNode:cracker box(scene_id=2, obj_id=obj_000001, coordinate=(2, 0), color=red, size=1,\n",
      "           parent=gelatin box at (2, 1),\n",
      "           children=[],\n",
      "           locationComponent=None,\n",
      "           attributeComponent=None,\n",
      "           objectReferComponent=None)\n",
      "\n",
      "ObjectNode:banana(scene_id=3, obj_id=obj_000009, coordinate=(2, 2), color=yellow, size=1,\n",
      "           parent=gelatin box at (2, 1),\n",
      "           children=[],\n",
      "           locationComponent=None,\n",
      "           attributeComponent=None,\n",
      "           objectReferComponent=None)\n",
      "\n",
      "ObjectNode:orange(scene_id=4, obj_id=obj_000015, coordinate=(1, 2), color=orange, size=1,\n",
      "           parent=gelatin box at (2, 1),\n",
      "           children=[],\n",
      "           locationComponent=location.relativeLocationToSingleObject.rearRight,\n",
      "           attributeComponent=attribute.randomAttribute,\n",
      "           objectReferComponent=objectRefer.ambiguous)\n",
      "\n",
      "ObjectNode:tomato soup can(scene_id=5, obj_id=obj_000003, coordinate=(0, 1), color=red, size=1,\n",
      "           parent=None,\n",
      "           children=['bowl at (0, 0)', 'tuna fish can at (0, 2)'],\n",
      "           locationComponent=location.relativeLocationToMultipleObjects.middle,\n",
      "           attributeComponent=attribute.randomAttribute,\n",
      "           objectReferComponent=objectRefer.category)\n",
      "\n",
      "ObjectNode:bowl(scene_id=6, obj_id=obj_000020, coordinate=(0, 0), color=red, size=1,\n",
      "           parent=tomato soup can at (0, 1),\n",
      "           children=[],\n",
      "           locationComponent=None,\n",
      "           attributeComponent=None,\n",
      "           objectReferComponent=None)\n",
      "\n",
      "ObjectNode:tuna fish can(scene_id=7, obj_id=obj_000005, coordinate=(0, 2), color=blue, size=1,\n",
      "           parent=tomato soup can at (0, 1),\n",
      "           children=[],\n",
      "           locationComponent=None,\n",
      "           attributeComponent=None,\n",
      "           objectReferComponent=None)\n",
      "\n",
      "\n"
     ]
    }
   ],
   "source": [
    "from scene_graph_generation import SceneGraph\n",
    "s1=SceneGraph.LoadScene(\"./output/scene_graphs/scene_graph_00000011.pkl\")\n",
    "for line in s1.GetSimpleReferringExpressions():\n",
    "    print(line)\n",
    "print(s1)"
   ]
  },
  {
   "cell_type": "code",
   "execution_count": 18,
   "metadata": {},
   "outputs": [
    {
     "name": "stdout",
     "output_type": "stream",
     "text": [
      "[0, 20, 20, 21]\n",
      "[0]\n"
     ]
    }
   ],
   "source": [
    "from scene_graph_generation import SceneGraph\n",
    "import os\n",
    "same_word=[]\n",
    "not_word=[]\n",
    "for i in range(len(os.listdir(\"./output/scene_graphs\"))):\n",
    "    s=SceneGraph.LoadScene(f\"./output/scene_graphs/scene_graph_{i:08d}.pkl\")\n",
    "    for line in s.GetSimpleReferringExpressions():\n",
    "        if \"not\" in line:\n",
    "            not_word.append(i)\n",
    "        elif \"same\" in line:\n",
    "            same_word.append(i)\n",
    "print(same_word)\n",
    "print(not_word)"
   ]
  },
  {
   "cell_type": "code",
   "execution_count": 2,
   "metadata": {},
   "outputs": [
    {
     "name": "stdout",
     "output_type": "stream",
     "text": [
      "0\n",
      "1\n",
      "2\n",
      "3\n",
      "4\n"
     ]
    }
   ],
   "source": [
    "itr=5\n",
    "for i in range(itr):\n",
    "    print(i)\n",
    "    if i==3:\n",
    "        itr+=10"
   ]
  }
 ],
 "metadata": {
  "kernelspec": {
   "display_name": "blender",
   "language": "python",
   "name": "python3"
  },
  "language_info": {
   "codemirror_mode": {
    "name": "ipython",
    "version": 3
   },
   "file_extension": ".py",
   "mimetype": "text/x-python",
   "name": "python",
   "nbconvert_exporter": "python",
   "pygments_lexer": "ipython3",
   "version": "3.10.13"
  }
 },
 "nbformat": 4,
 "nbformat_minor": 2
}
